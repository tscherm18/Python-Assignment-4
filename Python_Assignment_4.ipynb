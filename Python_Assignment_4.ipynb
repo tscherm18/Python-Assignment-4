{
  "cells": [
    {
      "cell_type": "markdown",
      "metadata": {
        "id": "JLsHmyR8ZLTg"
      },
      "source": [
        "# Object-Oriented-Programming (OOP)"
      ]
    },
    {
      "cell_type": "markdown",
      "metadata": {
        "id": "83uaTOBnZLTk"
      },
      "source": [
        "## Tasks Today:\n",
        "\n",
        "   \n",
        "\n",
        "1) <b>Creating a Class (Initializing/Declaring)</b> <br>\n",
        "2) <b>Using a Class (Instantiating)</b> <br>\n",
        " &nbsp;&nbsp;&nbsp;&nbsp; a) Creating One Instance <br>\n",
        " &nbsp;&nbsp;&nbsp;&nbsp; b) Creating Multiple Instances <br>\n",
        " &nbsp;&nbsp;&nbsp;&nbsp; c) In-Class Exercise #1 - Create a Class 'Car' and instantiate three different makes of cars <br>\n",
        "3) <b>The \\__init\\__() Method</b> <br>\n",
        " &nbsp;&nbsp;&nbsp;&nbsp; a) The 'self' Attribute <br>\n",
        "4) <b>Class Attributes</b> <br>\n",
        " &nbsp;&nbsp;&nbsp;&nbsp; a) Initializing Attributes <br>\n",
        " &nbsp;&nbsp;&nbsp;&nbsp; b) Setting an Attribute Outside of the \\__init\\__() Method <br>\n",
        " &nbsp;&nbsp;&nbsp;&nbsp; c) Setting Defaults for Attributes <br>\n",
        " &nbsp;&nbsp;&nbsp;&nbsp; d) Accessing Class Attributes <br>\n",
        " &nbsp;&nbsp;&nbsp;&nbsp; e) Changing Class Attributes <br>\n",
        " &nbsp;&nbsp;&nbsp;&nbsp; f) In-Class Exercise #2 - Add a color and wheels attribute to your 'Car' class <br>\n",
        "5) <b>Class Methods</b> <br>\n",
        " &nbsp;&nbsp;&nbsp;&nbsp; a) Creating <br>\n",
        " &nbsp;&nbsp;&nbsp;&nbsp; b) Calling <br>\n",
        " &nbsp;&nbsp;&nbsp;&nbsp; c) Modifying an Attribute's Value Through a Method <br>\n",
        " &nbsp;&nbsp;&nbsp;&nbsp; d) Incrementing an Attribute's Value Through a Method <br>\n",
        " &nbsp;&nbsp;&nbsp;&nbsp; e) In-Class Exercise #3 - Add a method that prints the cars color and wheel number, then call them <br>\n",
        "6) <b>Inheritance</b> <br>\n",
        " &nbsp;&nbsp;&nbsp;&nbsp; a) Syntax for Inheriting from a Parent Class <br>\n",
        " &nbsp;&nbsp;&nbsp;&nbsp; b) The \\__init\\__() Method for a Child Class (super()) <br>\n",
        " &nbsp;&nbsp;&nbsp;&nbsp; c) Defining Attributes and Methods for the Child Class <br>\n",
        " &nbsp;&nbsp;&nbsp;&nbsp; d) Method Overriding <br>\n",
        " &nbsp;&nbsp;&nbsp;&nbsp; e) In-Class Exercise #4 - Create a class 'Ford' that inherits from 'Car' class and initialize it as a Blue Ford Explorer with 4 wheels using the super() method <br>\n",
        "7) <b>Classes as Attributes</b> <br>\n",
        "8) <b>Exercises</b> <br>\n",
        " &nbsp;&nbsp;&nbsp;&nbsp; a) Exercise #1 - Turn the shopping cart program from yesterday into an object-oriented program <br>"
      ]
    },
    {
      "cell_type": "markdown",
      "metadata": {
        "id": "4P6HBBPYZLTk"
      },
      "source": [
        "## Creating a Class (Initializing/Declaring)\n",
        "<p>When creating a class, function, or even a variable you are initializing that object. Initializing and Declaring occur at the same time in Python, whereas in lower level languages you have to declare an object before initializing it. This is the first step in the process of using a class.</p>"
      ]
    },
    {
      "cell_type": "code",
      "execution_count": null,
      "metadata": {
        "id": "Gyd74rONZLTl"
      },
      "outputs": [],
      "source": [
        "class Car():\n",
        "    wheels = 4\n",
        "    color = 'blue'"
      ]
    },
    {
      "cell_type": "markdown",
      "metadata": {
        "id": "_tJn6997ZLTm"
      },
      "source": [
        "## Using a Class (Instantiating)\n",
        "<p>The process of creating a class is called <i>Instantiating</i>. Each time you create a variable of that type of class, it is referred to as an <i>Instance</i> of that class. This is the second step in the process of using a class.</p>"
      ]
    },
    {
      "cell_type": "markdown",
      "metadata": {
        "id": "FOYXzMm5ZLTm"
      },
      "source": [
        "##### Creating One Instance"
      ]
    },
    {
      "cell_type": "code",
      "execution_count": null,
      "metadata": {
        "id": "7ZfCyYfZZLTm",
        "outputId": "22f176bf-ff8c-4f47-c5b4-21d95d9849b3",
        "colab": {
          "base_uri": "https://localhost:8080/"
        }
      },
      "outputs": [
        {
          "output_type": "stream",
          "name": "stdout",
          "text": [
            "4\n"
          ]
        }
      ],
      "source": [
        "ford = Car()\n",
        "print(ford.wheels)"
      ]
    },
    {
      "cell_type": "markdown",
      "metadata": {
        "id": "Zy-bRD3MZLTn"
      },
      "source": [
        "##### Creating Multiple Instances"
      ]
    },
    {
      "cell_type": "code",
      "execution_count": null,
      "metadata": {
        "id": "ngBSg3btZLTn",
        "outputId": "d948467a-9cf0-4986-d6b8-c1a2d2c29fba",
        "colab": {
          "base_uri": "https://localhost:8080/"
        }
      },
      "outputs": [
        {
          "output_type": "stream",
          "name": "stdout",
          "text": [
            "<class 'str'>\n"
          ]
        }
      ],
      "source": [
        "chevy = Car()\n",
        "honda = Car()\n",
        "porsche = Car()\n",
        "\n",
        "print(type(porsche.color))"
      ]
    },
    {
      "cell_type": "markdown",
      "metadata": {
        "id": "pCC8pd2uZLTn"
      },
      "source": [
        "##### In-Class Exercise #1 - Create a Class 'Car' and Instantiate three different makes of cars"
      ]
    },
    {
      "cell_type": "code",
      "execution_count": null,
      "metadata": {
        "id": "S78-qsRLZLTo",
        "outputId": "c7cc32e8-a142-4ae1-cb00-454724b87232",
        "colab": {
          "base_uri": "https://localhost:8080/"
        }
      },
      "outputs": [
        {
          "output_type": "stream",
          "name": "stdout",
          "text": [
            "4\n",
            "5\n",
            "4\n"
          ]
        }
      ],
      "source": [
        "class Car():\n",
        "    wheels = 4\n",
        "    color = 'yellow'\n",
        "    doors = 4\n",
        "    seats = 5\n",
        "\n",
        "chevy = Car()\n",
        "honda = Car()\n",
        "porsche = Car()\n",
        "\n",
        "print(chevy.wheels)\n",
        "print(honda.seats)\n",
        "print(porsche.wheels)"
      ]
    },
    {
      "cell_type": "markdown",
      "metadata": {
        "id": "qoELql5PZLTo"
      },
      "source": [
        "## The \\__init\\__() Method <br>\n",
        "<p>This method is used in almost every created class, and called only once upon the creation of the class instance. This method will initialize all variables needed for the object.</p>"
      ]
    },
    {
      "cell_type": "code",
      "execution_count": null,
      "metadata": {
        "id": "xar7FXdfZLTo"
      },
      "outputs": [],
      "source": [
        "class Car():\n",
        "    engine = '4.7L' # constant attribute\n",
        "\n",
        "    def __init__(self, wheels, color):\n",
        "        self.wheels = wheels\n",
        "        self.color = color\n",
        "\n",
        "\n",
        "ford = Car(2, 'red')\n",
        "chevy = Car(4, 'blue')\n",
        "\n",
        "print(ford.wheels)\n",
        "print(chevy.wheels)\n",
        "print(ford.color)\n",
        "print(chevy.color)"
      ]
    },
    {
      "cell_type": "markdown",
      "metadata": {
        "id": "qo9eFIzOZLTo"
      },
      "source": [
        "##### The 'self' Attribute <br>\n",
        "<p>This attribute is required to keep track of specific instance's attributes. Without the self attribute, the program would not know how to reference or keep track of an instance's attributes.</p>"
      ]
    },
    {
      "cell_type": "code",
      "execution_count": null,
      "metadata": {
        "id": "2bhOCVoZZLTo"
      },
      "outputs": [],
      "source": [
        "# see above"
      ]
    },
    {
      "cell_type": "markdown",
      "metadata": {
        "id": "PVBKIWbXZLTo"
      },
      "source": [
        "## Class Attributes <br>\n",
        "<p>While variables are inside of a class, they are referred to as attributes and not variables. When someone says 'attribute' you know they're speaking about a class. Attributes can be initialized through the init method, or outside of it.</p>"
      ]
    },
    {
      "cell_type": "markdown",
      "metadata": {
        "id": "75DJqwpvZLTo"
      },
      "source": [
        "##### Initializing Attributes"
      ]
    },
    {
      "cell_type": "code",
      "execution_count": null,
      "metadata": {
        "id": "adHM_qIDZLTo"
      },
      "outputs": [],
      "source": [
        "# see above\n",
        "\n",
        "class Toy():\n",
        "    kind = 'car' # constant attribute\n",
        "\n",
        "    def __init__(self, rooftop, horn, wheels=4):\n",
        "        self.rooftop = rooftop\n",
        "        self.horn = horn\n",
        "        self.wheels = wheels\n",
        "\n",
        "tonka_truck = Toy(1, 1)\n",
        "hotwheels_car = Toy(2, 3, 8)"
      ]
    },
    {
      "cell_type": "markdown",
      "metadata": {
        "id": "sncpW9jfZLTp"
      },
      "source": [
        "##### Accessing Class Attributes"
      ]
    },
    {
      "cell_type": "code",
      "execution_count": null,
      "metadata": {
        "scrolled": true,
        "id": "YBiqKmr-ZLTp",
        "outputId": "2b3bba5c-e44c-4cc7-b743-6364f94aff5a",
        "colab": {
          "base_uri": "https://localhost:8080/"
        }
      },
      "outputs": [
        {
          "output_type": "stream",
          "name": "stdout",
          "text": [
            "1\n",
            "8\n"
          ]
        }
      ],
      "source": [
        "# See Above\n",
        "\n",
        "print(tonka_truck.horn)\n",
        "print(hotwheels_car.wheels)"
      ]
    },
    {
      "cell_type": "markdown",
      "metadata": {
        "id": "KFf1nWqJZLTp"
      },
      "source": [
        "##### Setting Defaults for Attributes"
      ]
    },
    {
      "cell_type": "code",
      "execution_count": null,
      "metadata": {
        "id": "rN4XRWgYZLTp",
        "outputId": "3945ef75-1a69-47f4-eec2-2b8a881ff5b4",
        "colab": {
          "base_uri": "https://localhost:8080/"
        }
      },
      "outputs": [
        {
          "output_type": "stream",
          "name": "stdout",
          "text": [
            "Blue\n",
            "4\n"
          ]
        }
      ],
      "source": [
        "class Car():\n",
        "    engine = '4.7L' # constant attribute\n",
        "\n",
        "    def __init__(self, wheels):\n",
        "      self.wheels = wheels\n",
        "      self.color = 'Blue'\n",
        "\n",
        "honda = Car(4)\n",
        "print(honda.color)\n",
        "print(honda.wheels)\n",
        "honda.engine = '5.4L'"
      ]
    },
    {
      "cell_type": "markdown",
      "metadata": {
        "id": "8QnyUj68ZLTp"
      },
      "source": [
        "##### Changing Class Attributes <br>\n",
        "<p>Keep in mind there are global class attributes and then there are attributes only available to each class instance which won't effect other classes.</p>"
      ]
    },
    {
      "cell_type": "code",
      "execution_count": null,
      "metadata": {
        "id": "dJuRZfsNZLTp"
      },
      "outputs": [],
      "source": [
        "# see above"
      ]
    },
    {
      "cell_type": "code",
      "execution_count": null,
      "metadata": {
        "id": "LkPisvTqZLTp"
      },
      "outputs": [],
      "source": []
    },
    {
      "cell_type": "markdown",
      "metadata": {
        "id": "cehxE0EvZLTp"
      },
      "source": [
        "##### In-Class Exercise #2 - Add a doors and seats attribute to your 'Car' class then print out two different instances with different doors and seats"
      ]
    },
    {
      "cell_type": "code",
      "execution_count": null,
      "metadata": {
        "id": "-he5iUsSZLTq",
        "outputId": "93b254ea-69a2-4aee-a297-617931ae3ce2",
        "colab": {
          "base_uri": "https://localhost:8080/"
        }
      },
      "outputs": [
        {
          "output_type": "stream",
          "name": "stdout",
          "text": [
            "2\n",
            "5\n"
          ]
        }
      ],
      "source": [
        "class Car():\n",
        "    wheels = 4\n",
        "    color = 'yellow'\n",
        "\n",
        "    def __init__(self, doors, seats):\n",
        "        self.doors = doors\n",
        "        self.seats = seats\n",
        "\n",
        "chevy = Car(2, 4)\n",
        "honda = Car(4, 5)\n",
        "\n",
        "print(chevy.doors)\n",
        "print(honda.seats)"
      ]
    },
    {
      "cell_type": "markdown",
      "metadata": {
        "id": "2P51bH_dZLTq"
      },
      "source": [
        "## Class Methods <br>\n",
        "<p>While inside of a class, functions are referred to as 'methods'. If you hear someone mention methods, they're speaking about classes. Methods are essentially functions, but only callable on the instances of a class.</p>"
      ]
    },
    {
      "cell_type": "markdown",
      "metadata": {
        "id": "BxMMKbg9ZLTq"
      },
      "source": [
        "##### Creating"
      ]
    },
    {
      "cell_type": "code",
      "execution_count": 6,
      "metadata": {
        "id": "Jen9mxGKZLTq"
      },
      "outputs": [],
      "source": [
        "class ShoppingBag():\n",
        "\n",
        "  '''\n",
        "  The ShoppingBag class will have handles, capacity,\n",
        "  and items to place inside.\n",
        "\n",
        "  Attributes for the class:\n",
        "    - handles: expected to be an integer\n",
        "    - items: expected to be a list\n",
        "    - capacity: expected to be an integer\n",
        "  '''\n",
        "\n",
        "  def __init__(self, handles, items = [], capacity = 10):\n",
        "    self.handles = handles\n",
        "    self.items = items\n",
        "    self.capacity = capacity\n",
        "\n",
        "  def showShoppingBag(self):\n",
        "    if len(self.items) == 0:\n",
        "      print('You have no items in your bag!')\n",
        "    else:\n",
        "      print('You have items in your bag!')\n",
        "      for item in self.items:\n",
        "        print(item)\n",
        "\n",
        "  def showCapacity(self):\n",
        "    if self.capacity == len(self.items):\n",
        "      print('Your bag is full!')\n",
        "    else:\n",
        "      print('You have space for', self.capacity - len(self.items))\n",
        "\n",
        "  def addToShoppingBag(self): # If capacity is full, reject new items\n",
        "    if(len(self.items) == self.capacity):\n",
        "      print('You have no room!')\n",
        "    else:\n",
        "      products = input('What would you like to add? ')\n",
        "      self.items.append(products)\n",
        "\n",
        "  def showHandles(self):\n",
        "    print(f'This bag has {self.handles} handles')"
      ]
    },
    {
      "cell_type": "markdown",
      "metadata": {
        "id": "XD45NOaRZLTq"
      },
      "source": [
        "##### Calling"
      ]
    },
    {
      "cell_type": "code",
      "execution_count": 7,
      "metadata": {
        "id": "N-a3u6KHZLTq",
        "colab": {
          "base_uri": "https://localhost:8080/"
        },
        "outputId": "e9ba1464-a474-4fe9-dcc0-5511503f5f91"
      },
      "outputs": [
        {
          "output_type": "stream",
          "name": "stdout",
          "text": [
            "What do you want to do? \n",
            "You may:\n",
            "- Add\n",
            "- Show\n",
            "- Quit\n",
            "add\n",
            "What would you like to add? cheese\n",
            "What do you want to do? \n",
            "You may:\n",
            "- Add\n",
            "- Show\n",
            "- Quit\n",
            "add\n",
            "What would you like to add? baloney\n",
            "What do you want to do? \n",
            "You may:\n",
            "- Add\n",
            "- Show\n",
            "- Quit\n",
            "capacity\n",
            "That is not a valid option. Please enter add, show, or quit.\n",
            "What do you want to do? \n",
            "You may:\n",
            "- Add\n",
            "- Show\n",
            "- Quit\n",
            "show\n",
            "What would you like to see: \n",
            "- Capacity\n",
            "- Handles\n",
            "- Shopping Bag\n",
            "capacity\n",
            "You have space for 8\n",
            "What do you want to do? \n",
            "You may:\n",
            "- Add\n",
            "- Show\n",
            "- Quit\n",
            "quit\n",
            "You have items in your bag!\n",
            "cheese\n",
            "baloney\n",
            "Thanks for shopping!\n"
          ]
        }
      ],
      "source": [
        "\n",
        "# See Above\n",
        "\n",
        "wholeFoodsBag = ShoppingBag(2)\n",
        "\n",
        "def run():\n",
        "  while True:\n",
        "    response = input('What do you want to do? \\nYou may:\\n- Add\\n- Show\\n- Quit\\n')\n",
        "\n",
        "    if response.lower() == 'quit':\n",
        "      wholeFoodsBag.showShoppingBag()\n",
        "      print('Thanks for shopping!')\n",
        "      break\n",
        "    elif response.lower() == 'add':\n",
        "      wholeFoodsBag.addToShoppingBag()\n",
        "    elif response.lower() == 'show':\n",
        "      showChoice = input('What would you like to see: \\n- Capacity\\n- Handles\\n- Shopping Bag\\n')\n",
        "      if showChoice.lower() == 'capacity':\n",
        "        wholeFoodsBag.showCapacity()\n",
        "      elif showChoice.lower() == 'handles':\n",
        "        wholeFoodsBag.showHandles()\n",
        "      else:\n",
        "        wholeFoodsBag.showShoppingBag()\n",
        "    else:\n",
        "      print('That is not a valid option. Please enter add, show, or quit.')\n",
        "\n",
        "run()"
      ]
    },
    {
      "cell_type": "markdown",
      "metadata": {
        "id": "8R6dWanSZLTq"
      },
      "source": [
        "##### Modifying an Attribute's Value Through a Method"
      ]
    },
    {
      "cell_type": "code",
      "execution_count": null,
      "metadata": {
        "id": "dI1iqCoPZLTq"
      },
      "outputs": [],
      "source": []
    },
    {
      "cell_type": "markdown",
      "metadata": {
        "id": "QqEiqJadZLTr"
      },
      "source": [
        "##### Incrementing an Attribute's Value Through a Method"
      ]
    },
    {
      "cell_type": "code",
      "execution_count": null,
      "metadata": {
        "id": "IvvMU6zbZLTr"
      },
      "outputs": [],
      "source": []
    },
    {
      "cell_type": "markdown",
      "metadata": {
        "id": "NzNMwsV8ZLTr"
      },
      "source": [
        "##### In-Class Exercise #3 - Add a method that takes in three parameters of year, doors and seats and prints out a formatted print statement with make, model, year, seats, and doors"
      ]
    },
    {
      "cell_type": "code",
      "execution_count": 8,
      "metadata": {
        "id": "x7oZ7UAVZLTr",
        "colab": {
          "base_uri": "https://localhost:8080/"
        },
        "outputId": "b6a68274-a6fa-40e7-a0bc-2ac872ee0417"
      },
      "outputs": [
        {
          "output_type": "stream",
          "name": "stdout",
          "text": [
            "This car is from 2019 and is a Ford Explorer and has 4 doors and 5 seats\n"
          ]
        }
      ],
      "source": [
        "# Create class with 2 paramters inside of the __init__ which are make and model\n",
        "\n",
        "# Inside of the Car class create a method that has 4 parameter in total (self,year,door,seats)\n",
        "\n",
        "# Output: This car is from 2019 and is a Ford Expolorer and has 4 doors and 5 seats\n",
        "\n",
        "class Car():\n",
        "    def __init__(self, make, model):\n",
        "        self.make = make\n",
        "        self.model = model\n",
        "\n",
        "    def carInfo(self, year, doors, seats):\n",
        "        print(f'This car is from {year} and is a {self.make} {self.model} and has {doors} doors and {seats} seats')\n",
        "\n",
        "\n",
        "car1 = Car('Ford', 'Explorer')\n",
        "car1.carInfo(2019, 4, 5)\n",
        "\n"
      ]
    },
    {
      "cell_type": "markdown",
      "metadata": {
        "id": "3-CF9XiaZLTr"
      },
      "source": [
        "## Inheritance <br>\n",
        "<p>You can create a child-parent relationship between two classes by using inheritance. What this allows you to do is have overriding methods, but also inherit traits from the parent class. Think of it as an actual parent and child, the child will inherit the parent's genes, as will the classes in OOP</p>"
      ]
    },
    {
      "cell_type": "markdown",
      "metadata": {
        "id": "ObcOymqGZLTv"
      },
      "source": [
        "##### Syntax for Inheriting from a Parent Class"
      ]
    },
    {
      "cell_type": "code",
      "execution_count": null,
      "metadata": {
        "id": "eh1PfonRZLTv"
      },
      "outputs": [],
      "source": []
    },
    {
      "cell_type": "markdown",
      "metadata": {
        "id": "1QomxC5hZLTw"
      },
      "source": [
        "##### The \\__init\\__() Method for a Child Class - super()"
      ]
    },
    {
      "cell_type": "code",
      "execution_count": null,
      "metadata": {
        "scrolled": true,
        "id": "wZz7Fx7XZLTw"
      },
      "outputs": [],
      "source": []
    },
    {
      "cell_type": "markdown",
      "metadata": {
        "id": "G5uqfcuOZLTw"
      },
      "source": [
        "##### Defining Attributes and Methods for the Child Class"
      ]
    },
    {
      "cell_type": "code",
      "execution_count": null,
      "metadata": {
        "id": "QzCuTbEoZLTw"
      },
      "outputs": [],
      "source": [
        "# See Above"
      ]
    },
    {
      "cell_type": "markdown",
      "metadata": {
        "id": "1EK8oQigZLTw"
      },
      "source": [
        "##### Method Overriding"
      ]
    },
    {
      "cell_type": "code",
      "execution_count": null,
      "metadata": {
        "id": "-qj0NjH2ZLTw"
      },
      "outputs": [],
      "source": [
        "# See Above"
      ]
    },
    {
      "cell_type": "markdown",
      "metadata": {
        "id": "_0kT3excZLTw"
      },
      "source": [
        "## Classes as Attributes <br>\n",
        "<p>Classes can also be used as attributes within another class. This is useful in situations where you need to keep variables locally stored, instead of globally stored.</p>"
      ]
    },
    {
      "cell_type": "code",
      "execution_count": null,
      "metadata": {
        "id": "ScplDTQtZLTx"
      },
      "outputs": [],
      "source": []
    },
    {
      "cell_type": "markdown",
      "metadata": {
        "id": "5Fe6QOysZLTx"
      },
      "source": [
        "# Exercises"
      ]
    },
    {
      "cell_type": "markdown",
      "metadata": {
        "id": "aptkGCO7ZLTx"
      },
      "source": [
        "### Exercise 1 - Turn the shopping cart program from yesterday into an object-oriented program\n",
        "\n",
        "The comments in the cell below are there as a guide for thinking about the problem. However, if you feel a different way is best for you and your own thought process, please do what feels best for you by all means."
      ]
    },
    {
      "cell_type": "code",
      "execution_count": 11,
      "metadata": {
        "id": "JHW1jPtEZLTx",
        "colab": {
          "base_uri": "https://localhost:8080/"
        },
        "outputId": "ca8bbae1-78db-4ffb-ca6b-a8a357df0d1f"
      },
      "outputs": [
        {
          "output_type": "stream",
          "name": "stdout",
          "text": [
            "What would you like to add? eggs\n",
            "['eggs']\n",
            "What would you like to add? bacon\n",
            "['eggs', 'bacon']\n",
            "What would you like to remove? bacon\n",
            "You now have:  ['eggs']  in your cart.\n",
            "['eggs']\n"
          ]
        }
      ],
      "source": [
        "# Create a class called cart that retains items and has methods to add, remove, and show\n",
        "\n",
        "class Cart():\n",
        "    def __init__(self, items):\n",
        "        self.items = items\n",
        "\n",
        "    def showCart(self):\n",
        "        print(self.items)\n",
        "\n",
        "\n",
        "    def addToCart(self):\n",
        "        item = input('What would you like to add? ')\n",
        "        self.items.append(item)\n",
        "        print(self.items)\n",
        "\n",
        "    def removeFromCart(self):\n",
        "        item = input('What would you like to remove? ')\n",
        "        while True:\n",
        "          if item not in self.items:\n",
        "            item = input('That item is not in your cart. Please type an item in your cart you would like to remove ')\n",
        "          else:\n",
        "            break\n",
        "        self.items.remove(item)\n",
        "        print(\"You now have: \", self.items, \" in your cart.\")\n",
        "\n",
        "\n",
        "newCart = Cart([])\n",
        "\n",
        "newCart.addToCart()\n",
        "newCart.addToCart()\n",
        "newCart.removeFromCart()\n",
        "newCart.showCart()\n"
      ]
    },
    {
      "cell_type": "markdown",
      "metadata": {
        "id": "UHzEfesJZLTx"
      },
      "source": [
        "### Exercise 2 - Write a Python class which has two methods get_String and print_String. get_String accept a string from the user and print_String print the string in upper case"
      ]
    },
    {
      "cell_type": "code",
      "execution_count": 17,
      "metadata": {
        "id": "7Y1YVZ1ZZLTx",
        "colab": {
          "base_uri": "https://localhost:8080/"
        },
        "outputId": "ec814525-cbcd-4a4a-c764-117380561714"
      },
      "outputs": [
        {
          "output_type": "stream",
          "name": "stdout",
          "text": [
            "Enter a string: classy\n",
            "CLASSY\n"
          ]
        }
      ],
      "source": [
        "class Strings():\n",
        "    string = ''\n",
        "    def __init__(self):\n",
        "        self.string = string\n",
        "\n",
        "    def get_String(self):\n",
        "        self.string = input('Enter a string: ')\n",
        "\n",
        "    def print_String(self):\n",
        "        print(self.string.upper())\n",
        "\n",
        "string = Strings()\n",
        "string.get_String()\n",
        "string.print_String()"
      ]
    }
  ],
  "metadata": {
    "kernelspec": {
      "display_name": "Python 3",
      "language": "python",
      "name": "python3"
    },
    "language_info": {
      "codemirror_mode": {
        "name": "ipython",
        "version": 3
      },
      "file_extension": ".py",
      "mimetype": "text/x-python",
      "name": "python",
      "nbconvert_exporter": "python",
      "pygments_lexer": "ipython3",
      "version": "3.8.5"
    },
    "colab": {
      "provenance": []
    }
  },
  "nbformat": 4,
  "nbformat_minor": 0
}